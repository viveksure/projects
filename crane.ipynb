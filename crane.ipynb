{
  "nbformat": 4,
  "nbformat_minor": 0,
  "metadata": {
    "colab": {
      "provenance": [],
      "authorship_tag": "ABX9TyNnUcpxaemCY7d+DyXUk8Kc",
      "include_colab_link": true
    },
    "kernelspec": {
      "name": "python3",
      "display_name": "Python 3"
    },
    "language_info": {
      "name": "python"
    }
  },
  "cells": [
    {
      "cell_type": "markdown",
      "metadata": {
        "id": "view-in-github",
        "colab_type": "text"
      },
      "source": [
        "<a href=\"https://colab.research.google.com/github/viveksure/projects/blob/main/crane.ipynb\" target=\"_parent\"><img src=\"https://colab.research.google.com/assets/colab-badge.svg\" alt=\"Open In Colab\"/></a>"
      ]
    },
    {
      "cell_type": "code",
      "metadata": {
        "colab": {
          "base_uri": "https://localhost:8080/",
          "height": 520
        },
        "id": "D-hPWloY3F5D",
        "outputId": "b59fac41-8920-4767-e36b-18de304e6c7c"
      },
      "source": [
        "import pandas as pd\n",
        "\n",
        "data=pd.read_csv('/content/statprojectdataset.csv')\n",
        "data"
      ],
      "execution_count": null,
      "outputs": [
        {
          "output_type": "execute_result",
          "data": {
            "text/html": [
              "<div>\n",
              "<style scoped>\n",
              "    .dataframe tbody tr th:only-of-type {\n",
              "        vertical-align: middle;\n",
              "    }\n",
              "\n",
              "    .dataframe tbody tr th {\n",
              "        vertical-align: top;\n",
              "    }\n",
              "\n",
              "    .dataframe thead th {\n",
              "        text-align: right;\n",
              "    }\n",
              "</style>\n",
              "<table border=\"1\" class=\"dataframe\">\n",
              "  <thead>\n",
              "    <tr style=\"text-align: right;\">\n",
              "      <th></th>\n",
              "      <th>Speed</th>\n",
              "      <th>Angle</th>\n",
              "      <th>Power</th>\n",
              "    </tr>\n",
              "  </thead>\n",
              "  <tbody>\n",
              "    <tr>\n",
              "      <th>0</th>\n",
              "      <td>1</td>\n",
              "      <td>-5</td>\n",
              "      <td>3</td>\n",
              "    </tr>\n",
              "    <tr>\n",
              "      <th>1</th>\n",
              "      <td>2</td>\n",
              "      <td>5</td>\n",
              "      <td>3</td>\n",
              "    </tr>\n",
              "    <tr>\n",
              "      <th>2</th>\n",
              "      <td>3</td>\n",
              "      <td>-2</td>\n",
              "      <td>5</td>\n",
              "    </tr>\n",
              "    <tr>\n",
              "      <th>3</th>\n",
              "      <td>1</td>\n",
              "      <td>2</td>\n",
              "      <td>5</td>\n",
              "    </tr>\n",
              "    <tr>\n",
              "      <th>4</th>\n",
              "      <td>2</td>\n",
              "      <td>0</td>\n",
              "      <td>7</td>\n",
              "    </tr>\n",
              "    <tr>\n",
              "      <th>5</th>\n",
              "      <td>6</td>\n",
              "      <td>-5</td>\n",
              "      <td>5</td>\n",
              "    </tr>\n",
              "    <tr>\n",
              "      <th>6</th>\n",
              "      <td>7</td>\n",
              "      <td>5</td>\n",
              "      <td>5</td>\n",
              "    </tr>\n",
              "    <tr>\n",
              "      <th>7</th>\n",
              "      <td>6</td>\n",
              "      <td>-2</td>\n",
              "      <td>3</td>\n",
              "    </tr>\n",
              "    <tr>\n",
              "      <th>8</th>\n",
              "      <td>7</td>\n",
              "      <td>2</td>\n",
              "      <td>3</td>\n",
              "    </tr>\n",
              "    <tr>\n",
              "      <th>9</th>\n",
              "      <td>6</td>\n",
              "      <td>0</td>\n",
              "      <td>7</td>\n",
              "    </tr>\n",
              "    <tr>\n",
              "      <th>10</th>\n",
              "      <td>8</td>\n",
              "      <td>-5</td>\n",
              "      <td>5</td>\n",
              "    </tr>\n",
              "    <tr>\n",
              "      <th>11</th>\n",
              "      <td>9</td>\n",
              "      <td>5</td>\n",
              "      <td>5</td>\n",
              "    </tr>\n",
              "    <tr>\n",
              "      <th>12</th>\n",
              "      <td>10</td>\n",
              "      <td>-2</td>\n",
              "      <td>3</td>\n",
              "    </tr>\n",
              "    <tr>\n",
              "      <th>13</th>\n",
              "      <td>8</td>\n",
              "      <td>2</td>\n",
              "      <td>3</td>\n",
              "    </tr>\n",
              "    <tr>\n",
              "      <th>14</th>\n",
              "      <td>9</td>\n",
              "      <td>0</td>\n",
              "      <td>5</td>\n",
              "    </tr>\n",
              "  </tbody>\n",
              "</table>\n",
              "</div>"
            ],
            "text/plain": [
              "    Speed  Angle  Power\n",
              "0       1     -5      3\n",
              "1       2      5      3\n",
              "2       3     -2      5\n",
              "3       1      2      5\n",
              "4       2      0      7\n",
              "5       6     -5      5\n",
              "6       7      5      5\n",
              "7       6     -2      3\n",
              "8       7      2      3\n",
              "9       6      0      7\n",
              "10      8     -5      5\n",
              "11      9      5      5\n",
              "12     10     -2      3\n",
              "13      8      2      3\n",
              "14      9      0      5"
            ]
          },
          "metadata": {},
          "execution_count": 19
        }
      ]
    },
    {
      "cell_type": "code",
      "metadata": {
        "colab": {
          "base_uri": "https://localhost:8080/"
        },
        "id": "VDFwxVvv4BZc",
        "outputId": "e06eaaf7-8d26-4c2d-eac5-de8ec13fb174"
      },
      "source": [
        "y=data['Power']\n",
        "y"
      ],
      "execution_count": null,
      "outputs": [
        {
          "output_type": "execute_result",
          "data": {
            "text/plain": [
              "0     3\n",
              "1     3\n",
              "2     5\n",
              "3     5\n",
              "4     7\n",
              "5     5\n",
              "6     5\n",
              "7     3\n",
              "8     3\n",
              "9     7\n",
              "10    5\n",
              "11    5\n",
              "12    3\n",
              "13    3\n",
              "14    5\n",
              "Name: Power, dtype: int64"
            ]
          },
          "metadata": {},
          "execution_count": 20
        }
      ]
    },
    {
      "cell_type": "code",
      "metadata": {
        "colab": {
          "base_uri": "https://localhost:8080/"
        },
        "id": "McKJLCR25CMx",
        "outputId": "bef3d2ee-842e-4bb4-bbab-3fe0ecae3c69"
      },
      "source": [
        "x1=data['Speed']\n",
        "x1"
      ],
      "execution_count": null,
      "outputs": [
        {
          "output_type": "execute_result",
          "data": {
            "text/plain": [
              "0      1\n",
              "1      2\n",
              "2      3\n",
              "3      1\n",
              "4      2\n",
              "5      6\n",
              "6      7\n",
              "7      6\n",
              "8      7\n",
              "9      6\n",
              "10     8\n",
              "11     9\n",
              "12    10\n",
              "13     8\n",
              "14     9\n",
              "Name: Speed, dtype: int64"
            ]
          },
          "metadata": {},
          "execution_count": 21
        }
      ]
    },
    {
      "cell_type": "code",
      "metadata": {
        "colab": {
          "base_uri": "https://localhost:8080/"
        },
        "id": "SeUED3Dz5HK8",
        "outputId": "1f86112a-f536-424f-c4d9-f24bd80221ca"
      },
      "source": [
        "x2=data['Angle']\n",
        "x2"
      ],
      "execution_count": null,
      "outputs": [
        {
          "output_type": "execute_result",
          "data": {
            "text/plain": [
              "0    -5\n",
              "1     5\n",
              "2    -2\n",
              "3     2\n",
              "4     0\n",
              "5    -5\n",
              "6     5\n",
              "7    -2\n",
              "8     2\n",
              "9     0\n",
              "10   -5\n",
              "11    5\n",
              "12   -2\n",
              "13    2\n",
              "14    0\n",
              "Name: Angle, dtype: int64"
            ]
          },
          "metadata": {},
          "execution_count": 22
        }
      ]
    },
    {
      "cell_type": "code",
      "metadata": {
        "id": "BF6fJUko5L6M"
      },
      "source": [
        "ymean=[]\n",
        "def linear(b0,b1,b2):\n",
        "  sum=0;\n",
        "  ybar=[]\n",
        "  ypp=[]\n",
        "  for i in range(0,len(x1)):\n",
        "    ybar.append(b0+b1*int(x1[i])+b2*int(x2[i]))\n",
        "  for i in range(0,len(x1)):\n",
        "    ypp.append((y[i]-ybar[i])**2)\n",
        "  for i in range(0,len(x1)):\n",
        "    sum=sum+ypp[i]\n",
        "  ymean.append(sum/len(x1))\n",
        "for i in range(0,100):\n",
        "  linear(i,i+2,i+4) "
      ],
      "execution_count": null,
      "outputs": []
    },
    {
      "cell_type": "code",
      "metadata": {
        "colab": {
          "base_uri": "https://localhost:8080/"
        },
        "id": "XYJ2-y6H5oED",
        "outputId": "b4af5ec4-f7ad-48bb-a336-82eb9adaa0d9"
      },
      "source": [
        "print(ymean)"
      ],
      "execution_count": null,
      "outputs": [
        {
          "output_type": "stream",
          "name": "stdout",
          "text": [
            "[281.53333333333336, 575.6666666666666, 1002.0666666666667, 1560.7333333333333, 2251.6666666666665, 3074.866666666667, 4030.3333333333335, 5118.066666666667, 6338.066666666667, 7690.333333333333, 9174.866666666667, 10791.666666666666, 12540.733333333334, 14422.066666666668, 16435.666666666668, 18581.533333333333, 20859.666666666668, 23270.066666666666, 25812.733333333334, 28487.666666666668, 31294.866666666665, 34234.333333333336, 37306.066666666666, 40510.066666666666, 43846.333333333336, 47314.86666666667, 50915.666666666664, 54648.73333333333, 58514.066666666666, 62511.666666666664, 66641.53333333334, 70903.66666666667, 75298.06666666667, 79824.73333333334, 84483.66666666667, 89274.86666666667, 94198.33333333333, 99254.06666666667, 104442.06666666667, 109762.33333333333, 115214.86666666667, 120799.66666666667, 126516.73333333334, 132366.06666666668, 138347.66666666666, 144461.53333333333, 150707.66666666666, 157086.06666666668, 163596.73333333334, 170239.66666666666, 177014.86666666667, 183922.33333333334, 190962.06666666668, 198134.06666666668, 205438.33333333334, 212874.86666666667, 220443.66666666666, 228144.73333333334, 235978.06666666668, 243943.66666666666, 252041.53333333333, 260271.66666666666, 268634.06666666665, 277128.73333333334, 285755.6666666667, 294514.86666666664, 303406.3333333333, 312430.06666666665, 321586.06666666665, 330874.3333333333, 340294.86666666664, 349847.6666666667, 359532.73333333334, 369350.06666666665, 379299.6666666667, 389381.5333333333, 399595.6666666667, 409942.06666666665, 420420.73333333334, 431031.6666666667, 441774.86666666664, 452650.3333333333, 463658.06666666665, 474798.06666666665, 486070.3333333333, 497474.86666666664, 509011.6666666667, 520680.73333333334, 532482.0666666667, 544415.6666666666, 556481.5333333333, 568679.6666666666, 581010.0666666667, 593472.7333333333, 606067.6666666666, 618794.8666666667, 631654.3333333334, 644646.0666666667, 657770.0666666667, 671026.3333333334]\n"
          ]
        }
      ]
    },
    {
      "cell_type": "code",
      "metadata": {
        "colab": {
          "base_uri": "https://localhost:8080/"
        },
        "id": "lDHB3aLh5sAp",
        "outputId": "b422c969-9a70-4a89-992e-99468bef7a0b"
      },
      "source": [
        "\n",
        "if(ymean[0]<ymean[1]):\n",
        "  result=ymean[0]\n",
        "else:\n",
        "  result=ymean[1]\n",
        "for i in range(0,len(ymean)):\n",
        "  if(result>ymean[i]):\n",
        "    result=ymen[i]\n",
        "    \n",
        "print(\"the less mean square error is\",result)"
      ],
      "execution_count": null,
      "outputs": [
        {
          "output_type": "stream",
          "name": "stdout",
          "text": [
            "the less mean square error is 281.53333333333336\n"
          ]
        }
      ]
    },
    {
      "cell_type": "code",
      "metadata": {
        "id": "vySo08lo572C"
      },
      "source": [],
      "execution_count": null,
      "outputs": []
    }
  ]
}